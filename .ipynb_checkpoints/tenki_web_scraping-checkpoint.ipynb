{
 "cells": [
  {
   "cell_type": "code",
   "execution_count": 10,
   "metadata": {
    "collapsed": true
   },
   "outputs": [],
   "source": [
    "from bs4 import BeautifulSoup\n",
    "from bs4 import Comment\n",
    "import re\n",
    "import requests\n",
    "import math\n",
    "\n",
    "ken = {} # ken means prefecture in Japanese\n",
    "def init_tenki():\n",
    "    weather_url = 'http://www.weather-eye.com/weatherchart/'\n",
    "    r  = requests.get(weather_url)\n",
    "    data = r.content\n",
    "    soup = BeautifulSoup(data, 'html.parser')\n",
    "    for each in soup.find_all('a'):\n",
    "        ken_id = re.search('_(\\d{5}).',each.get('href')).group(1)\n",
    "        ken_name = each.get_text()\n",
    "        ken[ken_name] = ken_id\n",
    "init_tenki()"
   ]
  },
  {
   "cell_type": "code",
   "execution_count": 11,
   "metadata": {
    "collapsed": true
   },
   "outputs": [],
   "source": [
    "def transform_ken(ken):\n",
    "    transformed_ken = re.sub('県|都|府','', ken)\n",
    "    if transformed_ken == '京':\n",
    "        transformed_ken = '京都'\n",
    "    elif transformed_ken == '沖縄':\n",
    "        transformed_ken = '沖縄島'\n",
    "    elif transformed_ken == '北海道':\n",
    "        transformed_ken = '旭川'\n",
    "    return transformed_ken"
   ]
  },
  {
   "cell_type": "code",
   "execution_count": 12,
   "metadata": {
    "collapsed": true
   },
   "outputs": [],
   "source": [
    "def scrape_table(tr):\n",
    "    day = 0\n",
    "    day2 = 0\n",
    "    month_obj = {}\n",
    "    for index, each_tr in enumerate(tr):\n",
    "        if index % 3 == 0:\n",
    "            for b in each_tr.findAll('b'):\n",
    "                month_obj[int(b.get_text())] = []\n",
    "        if index % 3 == 1:\n",
    "            for font in each_tr.findAll('font'):\n",
    "                day += 0.5\n",
    "                date = math.ceil(float(day))\n",
    "                month_obj[date].append(font.get_text())\n",
    "        if index % 3 == 2:\n",
    "            for font in each_tr.findAll('font'):\n",
    "                day2 += 0.5\n",
    "                date = math.ceil(float(day2))\n",
    "                month_obj[date].append(font.get_text())\n",
    "    return month_obj"
   ]
  },
  {
   "cell_type": "code",
   "execution_count": 66,
   "metadata": {},
   "outputs": [],
   "source": [
    "def scrape_url(full_url):\n",
    "    r  = requests.get(full_url)\n",
    "    data = r.content\n",
    "    soup = BeautifulSoup(data, 'html.parser')\n",
    "    body = soup.find('body')\n",
    "    keyword = '日付'\n",
    "#     if(int(target_month) > 1700):\n",
    "#         table_number = 5\n",
    "#     else:\n",
    "#         table_number = 6\n",
    "    table_number = 5\n",
    "    \n",
    "    while table_number < 6:\n",
    "        table = body.findAll('table')[table_number]\n",
    "        print(table)\n",
    "        if keyword in table:\n",
    "            print(table)\n",
    "            break\n",
    "        table_number += 1\n",
    "    tr = table.findAll('tr')\n",
    "    del tr[0]\n",
    "    return scrape_table(tr)"
   ]
  },
  {
   "cell_type": "code",
   "execution_count": 67,
   "metadata": {
    "collapsed": true
   },
   "outputs": [],
   "source": [
    "def get_climate(target_ken_name,target_date,transform=True):\n",
    "    if transform:\n",
    "        target_ken_id = ken[transform_ken(target_ken_name)]\n",
    "    else:\n",
    "        target_ken_id = ken[target_ken_name]\n",
    "    target_month = re.search('^\\d{4}', target_date).group(0)\n",
    "    target_day = int(re.search('\\d{2}$', target_date).group(0))\n",
    "    url_prefix = 'http://www.weather-eye.com/weatherchart/src/'\n",
    "    url_suffix = '.htm'\n",
    "    full_url = url_prefix + target_month + '_' + target_ken_id + url_suffix\n",
    "    month_obj = scrape_url(full_url)\n",
    "    return month_obj[target_day]"
   ]
  },
  {
   "cell_type": "code",
   "execution_count": 68,
   "metadata": {},
   "outputs": [
    {
     "ename": "ValueError",
     "evalue": "invalid literal for int() with base 10: '日'",
     "output_type": "error",
     "traceback": [
      "\u001b[0;31m---------------------------------------------------------------------------\u001b[0m",
      "\u001b[0;31mValueError\u001b[0m                                Traceback (most recent call last)",
      "\u001b[0;32m<ipython-input-68-08f5ec5d0115>\u001b[0m in \u001b[0;36m<module>\u001b[0;34m()\u001b[0m\n\u001b[0;32m----> 1\u001b[0;31m \u001b[0mprint\u001b[0m\u001b[0;34m(\u001b[0m\u001b[0mget_climate\u001b[0m\u001b[0;34m(\u001b[0m\u001b[0;34m'神奈川県'\u001b[0m\u001b[0;34m,\u001b[0m\u001b[0;34m'160716'\u001b[0m\u001b[0;34m)\u001b[0m\u001b[0;34m)\u001b[0m\u001b[0;34m\u001b[0m\u001b[0m\n\u001b[0m",
      "\u001b[0;32m<ipython-input-67-64041d88bc6d>\u001b[0m in \u001b[0;36mget_climate\u001b[0;34m(target_ken_name, target_date, transform)\u001b[0m\n\u001b[1;32m      9\u001b[0m     \u001b[0murl_suffix\u001b[0m \u001b[0;34m=\u001b[0m \u001b[0;34m'.htm'\u001b[0m\u001b[0;34m\u001b[0m\u001b[0m\n\u001b[1;32m     10\u001b[0m     \u001b[0mfull_url\u001b[0m \u001b[0;34m=\u001b[0m \u001b[0murl_prefix\u001b[0m \u001b[0;34m+\u001b[0m \u001b[0mtarget_month\u001b[0m \u001b[0;34m+\u001b[0m \u001b[0;34m'_'\u001b[0m \u001b[0;34m+\u001b[0m \u001b[0mtarget_ken_id\u001b[0m \u001b[0;34m+\u001b[0m \u001b[0murl_suffix\u001b[0m\u001b[0;34m\u001b[0m\u001b[0m\n\u001b[0;32m---> 11\u001b[0;31m     \u001b[0mmonth_obj\u001b[0m \u001b[0;34m=\u001b[0m \u001b[0mscrape_url\u001b[0m\u001b[0;34m(\u001b[0m\u001b[0mfull_url\u001b[0m\u001b[0;34m)\u001b[0m\u001b[0;34m\u001b[0m\u001b[0m\n\u001b[0m\u001b[1;32m     12\u001b[0m     \u001b[0;32mreturn\u001b[0m \u001b[0mmonth_obj\u001b[0m\u001b[0;34m[\u001b[0m\u001b[0mtarget_day\u001b[0m\u001b[0;34m]\u001b[0m\u001b[0;34m\u001b[0m\u001b[0m\n",
      "\u001b[0;32m<ipython-input-66-9f6fd5f8beca>\u001b[0m in \u001b[0;36mscrape_url\u001b[0;34m(full_url)\u001b[0m\n\u001b[1;32m     18\u001b[0m     \u001b[0mtr\u001b[0m \u001b[0;34m=\u001b[0m \u001b[0mtable\u001b[0m\u001b[0;34m.\u001b[0m\u001b[0mfindAll\u001b[0m\u001b[0;34m(\u001b[0m\u001b[0;34m'tr'\u001b[0m\u001b[0;34m)\u001b[0m\u001b[0;34m\u001b[0m\u001b[0m\n\u001b[1;32m     19\u001b[0m     \u001b[0;32mdel\u001b[0m \u001b[0mtr\u001b[0m\u001b[0;34m[\u001b[0m\u001b[0;36m0\u001b[0m\u001b[0;34m]\u001b[0m\u001b[0;34m\u001b[0m\u001b[0m\n\u001b[0;32m---> 20\u001b[0;31m     \u001b[0;32mreturn\u001b[0m \u001b[0mscrape_table\u001b[0m\u001b[0;34m(\u001b[0m\u001b[0mtr\u001b[0m\u001b[0;34m)\u001b[0m\u001b[0;34m\u001b[0m\u001b[0m\n\u001b[0m",
      "\u001b[0;32m<ipython-input-12-360bd5248722>\u001b[0m in \u001b[0;36mscrape_table\u001b[0;34m(tr)\u001b[0m\n\u001b[1;32m      6\u001b[0m         \u001b[0;32mif\u001b[0m \u001b[0mindex\u001b[0m \u001b[0;34m%\u001b[0m \u001b[0;36m3\u001b[0m \u001b[0;34m==\u001b[0m \u001b[0;36m0\u001b[0m\u001b[0;34m:\u001b[0m\u001b[0;34m\u001b[0m\u001b[0m\n\u001b[1;32m      7\u001b[0m             \u001b[0;32mfor\u001b[0m \u001b[0mb\u001b[0m \u001b[0;32min\u001b[0m \u001b[0meach_tr\u001b[0m\u001b[0;34m.\u001b[0m\u001b[0mfindAll\u001b[0m\u001b[0;34m(\u001b[0m\u001b[0;34m'b'\u001b[0m\u001b[0;34m)\u001b[0m\u001b[0;34m:\u001b[0m\u001b[0;34m\u001b[0m\u001b[0m\n\u001b[0;32m----> 8\u001b[0;31m                 \u001b[0mmonth_obj\u001b[0m\u001b[0;34m[\u001b[0m\u001b[0mint\u001b[0m\u001b[0;34m(\u001b[0m\u001b[0mb\u001b[0m\u001b[0;34m.\u001b[0m\u001b[0mget_text\u001b[0m\u001b[0;34m(\u001b[0m\u001b[0;34m)\u001b[0m\u001b[0;34m)\u001b[0m\u001b[0;34m]\u001b[0m \u001b[0;34m=\u001b[0m \u001b[0;34m[\u001b[0m\u001b[0;34m]\u001b[0m\u001b[0;34m\u001b[0m\u001b[0m\n\u001b[0m\u001b[1;32m      9\u001b[0m         \u001b[0;32mif\u001b[0m \u001b[0mindex\u001b[0m \u001b[0;34m%\u001b[0m \u001b[0;36m3\u001b[0m \u001b[0;34m==\u001b[0m \u001b[0;36m1\u001b[0m\u001b[0;34m:\u001b[0m\u001b[0;34m\u001b[0m\u001b[0m\n\u001b[1;32m     10\u001b[0m             \u001b[0;32mfor\u001b[0m \u001b[0mfont\u001b[0m \u001b[0;32min\u001b[0m \u001b[0meach_tr\u001b[0m\u001b[0;34m.\u001b[0m\u001b[0mfindAll\u001b[0m\u001b[0;34m(\u001b[0m\u001b[0;34m'font'\u001b[0m\u001b[0;34m)\u001b[0m\u001b[0;34m:\u001b[0m\u001b[0;34m\u001b[0m\u001b[0m\n",
      "\u001b[0;31mValueError\u001b[0m: invalid literal for int() with base 10: '日'"
     ]
    }
   ],
   "source": [
    "print(get_climate('神奈川県','160716'))"
   ]
  },
  {
   "cell_type": "code",
   "execution_count": 2,
   "metadata": {},
   "outputs": [
    {
     "name": "stdout",
     "output_type": "stream",
     "text": [
      "a\n"
     ]
    }
   ],
   "source": []
  },
  {
   "cell_type": "code",
   "execution_count": null,
   "metadata": {
    "collapsed": true
   },
   "outputs": [],
   "source": []
  }
 ],
 "metadata": {
  "kernelspec": {
   "display_name": "env",
   "language": "python",
   "name": "env"
  }
 },
 "nbformat": 4,
 "nbformat_minor": 2
}
