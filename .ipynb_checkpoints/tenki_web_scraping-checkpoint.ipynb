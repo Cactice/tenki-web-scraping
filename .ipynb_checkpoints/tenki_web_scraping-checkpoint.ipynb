{
 "cells": [
  {
   "cell_type": "code",
   "execution_count": 1,
   "metadata": {
    "collapsed": true
   },
   "outputs": [],
   "source": [
    "from bs4 import BeautifulSoup\n",
    "import re\n",
    "import requests\n",
    "import math\n",
    "ken = {} # ken means prefecture in Japanese\n",
    "def init_tenki():\n",
    "    weather_url = 'http://www.weather-eye.com/weatherchart/'\n",
    "    r  = requests.get(weather_url)\n",
    "    data = r.content\n",
    "    soup = BeautifulSoup(data, 'html.parser')\n",
    "    for each in soup.find_all('a'):\n",
    "        ken_id = re.search('_(\\d{5}).',each.get('href')).group(1)\n",
    "        ken_name = each.get_text()\n",
    "        ken[ken_name] = ken_id\n",
    "init_tenki()"
   ]
  },
  {
   "cell_type": "code",
   "execution_count": 2,
   "metadata": {
    "collapsed": true
   },
   "outputs": [],
   "source": [
    "def transform_ken(ken):\n",
    "    transformed_ken = re.sub('県|都|府','', ken)\n",
    "    if transformed_ken == '京':\n",
    "        transformed_ken = '京都'\n",
    "    elif transformed_ken == '沖縄':\n",
    "        transformed_ken = '沖縄島'\n",
    "    elif transformed_ken == '北海道':\n",
    "        transformed_ken = '旭川'\n",
    "    return transformed_ken"
   ]
  },
  {
   "cell_type": "code",
   "execution_count": 3,
   "metadata": {
    "collapsed": true
   },
   "outputs": [],
   "source": [
    "def scrape_table(tr):\n",
    "    day = 0\n",
    "    day2 = 0\n",
    "    month_obj = {}\n",
    "    for index, each_tr in enumerate(tr):\n",
    "        if index % 3 == 0:\n",
    "            for b in each_tr.findAll('b'):\n",
    "                month_obj[int(b.get_text())] = []\n",
    "        if index % 3 == 1:\n",
    "            for font in each_tr.findAll('font'):\n",
    "                day += 0.5\n",
    "                date = math.ceil(float(day))\n",
    "                month_obj[date].append(font.get_text())\n",
    "        if index % 3 == 2:\n",
    "            for font in each_tr.findAll('font'):\n",
    "                day2 += 0.5\n",
    "                date = math.ceil(float(day2))\n",
    "                month_obj[date].append(font.get_text())\n",
    "    return month_obj"
   ]
  },
  {
   "cell_type": "code",
   "execution_count": 4,
   "metadata": {
    "collapsed": true
   },
   "outputs": [],
   "source": [
    "def scrape_url(full_url):\n",
    "    r  = requests.get(full_url)\n",
    "    data = r.content\n",
    "    soup = BeautifulSoup(data, 'html.parser')\n",
    "    body = soup.find('body')\n",
    "    table = body.findAll('table')[6]\n",
    "    tr = table.findAll('tr')\n",
    "    del tr[0]\n",
    "    return scrape_table(tr)"
   ]
  },
  {
   "cell_type": "code",
   "execution_count": 5,
   "metadata": {
    "collapsed": true
   },
   "outputs": [],
   "source": [
    "def get_climate(target_ken_name,target_date,transform=True):\n",
    "    if transform:\n",
    "        target_ken_id = ken[transform_ken(target_ken_name)]\n",
    "    else:\n",
    "        target_ken_id = ken[target_ken_name]\n",
    "    target_month = re.search('^\\d{4}', target_date).group(0)\n",
    "    target_day = int(re.search('\\d{2}$', target_date).group(0))\n",
    "    url_prefix = 'http://www.weather-eye.com/weatherchart/src/'\n",
    "    url_suffix = '.htm'\n",
    "    full_url = url_prefix + target_month + '_' + target_ken_id + url_suffix\n",
    "    month_obj = scrape_url(full_url)\n",
    "    return month_obj[target_day]"
   ]
  },
  {
   "cell_type": "code",
   "execution_count": 6,
   "metadata": {},
   "outputs": [
    {
     "name": "stdout",
     "output_type": "stream",
     "text": [
      "['はれ', '雨', '13.4', '8.4']\n"
     ]
    }
   ],
   "source": [
    "print(get_climate('香川県','151216'))"
   ]
  },
  {
   "cell_type": "code",
   "execution_count": null,
   "metadata": {
    "collapsed": true
   },
   "outputs": [],
   "source": []
  }
 ],
 "metadata": {
  "kernelspec": {
   "display_name": "env",
   "language": "python",
   "name": "env"
  },
  "language_info": {
   "codemirror_mode": {
    "name": "ipython",
    "version": 3
   },
   "file_extension": ".py",
   "mimetype": "text/x-python",
   "name": "python",
   "nbconvert_exporter": "python",
   "pygments_lexer": "ipython3",
   "version": "3.6.4"
  }
 },
 "nbformat": 4,
 "nbformat_minor": 2
}
