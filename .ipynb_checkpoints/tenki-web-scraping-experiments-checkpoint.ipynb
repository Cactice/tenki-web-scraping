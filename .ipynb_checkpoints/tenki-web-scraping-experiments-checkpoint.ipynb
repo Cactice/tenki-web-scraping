{
 "cells": [
  {
   "cell_type": "code",
   "execution_count": 2,
   "metadata": {
    "collapsed": true
   },
   "outputs": [],
   "source": [
    "from bs4 import BeautifulSoup\n",
    "import re\n",
    "import requests\n",
    "weather_url = 'http://www.weather-eye.com/weatherchart/'\n",
    "r  = requests.get(weather_url)\n",
    "data = r.content\n",
    "soup = BeautifulSoup(data, 'html.parser')\n",
    "ken = {} # ken means prefecture in Japanese\n",
    "\n",
    "for each in soup.find_all('a'):\n",
    "    ken_id = re.search('_(\\d{5}).',each.get('href')).group(1)\n",
    "    ken_name = each.get_text()\n",
    "    ken[ken_name] = ken_id"
   ]
  },
  {
   "cell_type": "code",
   "execution_count": 3,
   "metadata": {
    "collapsed": true
   },
   "outputs": [],
   "source": [
    "# typical target url => http://www.weather-eye.com/weatherchart/src/1510_47682.htm\n",
    "\n",
    "target_ken_name = '鹿児島'\n",
    "target_ken_id = ken[target_ken_name]\n",
    "target_date = '151213' #yymmdd\n",
    "target_month = re.search('^\\d{4}', target_date).group(0)\n",
    "url_prefix = 'http://www.weather-eye.com/weatherchart/src/'\n",
    "url_suffix = '.htm'\n",
    "full_url = url_prefix +target_month+'_' + target_ken_id +url_suffix\n",
    "#ken"
   ]
  },
  {
   "cell_type": "code",
   "execution_count": 4,
   "metadata": {
    "collapsed": true
   },
   "outputs": [],
   "source": [
    "r  = requests.get(full_url)"
   ]
  },
  {
   "cell_type": "code",
   "execution_count": 5,
   "metadata": {
    "collapsed": true
   },
   "outputs": [],
   "source": [
    "# scrape web!! (yah yah)\n",
    "\n",
    "import math\n",
    "data = r.content\n",
    "soup = BeautifulSoup(data, 'html.parser')\n",
    "body = soup.find('body')\n",
    "table = body.findAll('table')[6]\n",
    "tr = table.findAll('tr')\n",
    "monthObj = {}\n",
    "day = 0\n",
    "day2 = 0\n",
    "del tr[0]\n",
    "for index, each_tr in enumerate(tr):\n",
    "    if index % 3 == 0:\n",
    "        for b in each_tr.findAll('b'):\n",
    "            monthObj[int(b.get_text())] = []\n",
    "    if index % 3 == 1:\n",
    "        for font in each_tr.findAll('font'):\n",
    "            day += 0.5\n",
    "            date = math.ceil(float(day))\n",
    "            monthObj[date].append(font.get_text())\n",
    "    if index % 3 == 2:\n",
    "        for font in each_tr.findAll('font'):\n",
    "            day2 += 0.5\n",
    "            date = math.ceil(float(day2))\n",
    "            monthObj[date].append(font.get_text())\n"
   ]
  },
  {
   "cell_type": "code",
   "execution_count": 6,
   "metadata": {
    "collapsed": true
   },
   "outputs": [],
   "source": [
    "# convert prefecture name to match the websites naming\n",
    "\n",
    "realKen=  ['北海道', '青森県', '岩手県', '宮城県', '秋田県', \n",
    "    '山形県', '福島県', '茨城県', '栃木県', '群馬県', \n",
    "    '埼玉県', '千葉県', '東京都', '神奈川県', '新潟県', \n",
    "    '富山県', '石川県', '福井県', '山梨県', '長野県', \n",
    "    '岐阜県', '静岡県', '愛知県', '三重県', '滋賀県', \n",
    "    '京都府', '大阪府', '兵庫県', '奈良県', '和歌山県', \n",
    "    '鳥取県', '島根県', '岡山県', '広島県', '山口県', \n",
    "    '徳島県', '香川県', '愛媛県', '高知県', '福岡県', \n",
    "    '佐賀県', '長崎県', '熊本県', '大分県', '宮崎県', \n",
    "    '鹿児島県', '沖縄県']\n",
    "newKen =[]\n",
    "for ken2 in realKen:\n",
    "    transformed_ken = re.sub('県|都|府','', ken2)\n",
    "    if transformed_ken == '京':\n",
    "        transformed_ken = '京都'\n",
    "    elif transformed_ken == '沖縄':\n",
    "        transformed_ken = '沖縄島'\n",
    "    elif transformed_ken == '北海道':\n",
    "        transformed_ken = '旭川'\n",
    "    newKen.append(transformed_ken)\n",
    "#newKen"
   ]
  },
  {
   "cell_type": "code",
   "execution_count": 7,
   "metadata": {
    "collapsed": true
   },
   "outputs": [],
   "source": [
    "# convert dictionary to list to compare with the converter\n",
    "\n",
    "dictlist = []\n",
    "for key in ken:\n",
    "    temp = key\n",
    "    dictlist.append(temp)\n",
    "#dictlist"
   ]
  },
  {
   "cell_type": "code",
   "execution_count": 8,
   "metadata": {},
   "outputs": [
    {
     "data": {
      "text/plain": [
       "[]"
      ]
     },
     "execution_count": 8,
     "metadata": {},
     "output_type": "execute_result"
    }
   ],
   "source": [
    "# convert checker \n",
    "# if nothing displays it's good\n",
    "\n",
    "list(set(newKen) - set(dictlist))"
   ]
  },
  {
   "cell_type": "code",
   "execution_count": 11,
   "metadata": {},
   "outputs": [
    {
     "data": {
      "text/plain": [
       "{1: ['快晴', '快晴', '19.4', '9.3'],\n",
       " 2: ['くもり', '雨', '20.4', '11.3'],\n",
       " 3: ['はれ', '雨', '16.3', '11.8'],\n",
       " 4: ['雨', 'はれ', '14.9', '9.4'],\n",
       " 5: ['はれ', 'くもり', '15.2', '9.6'],\n",
       " 6: ['雨', '雨', '11.6', '8.9'],\n",
       " 7: ['はれ', 'はれ', '18.1', '10.7'],\n",
       " 8: ['快晴', '快晴', '18.9', '7.8'],\n",
       " 9: ['はれ', 'はれ', '19.3', '8'],\n",
       " 10: ['雨', '雨', '21.3', '16.3'],\n",
       " 11: ['雨', 'はれ', '20.3', '14.1'],\n",
       " 12: ['くもり', 'はれ', '16.4', '12.7'],\n",
       " 13: ['はれ', '快晴', '18.3', '11.5'],\n",
       " 14: ['くもり', 'はれ', '17.4', '11.3'],\n",
       " 15: ['雨', '雨', '18.7', '11.6'],\n",
       " 16: ['くもり', '雨', '13.4', '8.7'],\n",
       " 17: ['雨', '雨', '9.1', '5.1'],\n",
       " 18: ['快晴', '快晴', '11.1', '1.8'],\n",
       " 19: ['快晴', '快晴', '13.2', '4.2'],\n",
       " 20: ['はれ', 'くもり', '17.2', '6.4'],\n",
       " 21: ['雨', 'はれ', '21', '11.2'],\n",
       " 22: ['はれ', 'はれ', '19.9', '11.2'],\n",
       " 23: ['雨', '雨', '19.4', '14.4'],\n",
       " 24: ['くもり', '雨', '18.2', '13.2'],\n",
       " 25: ['快晴', '快晴', '15.8', '8.2'],\n",
       " 26: ['快晴', 'くもり', '14.8', '6.8'],\n",
       " 27: ['くもり', 'くもり', '14.7', '9.5'],\n",
       " 28: ['快晴', 'はれ', '14', '6.2'],\n",
       " 29: ['はれ', 'はれ', '12.2', '4.9'],\n",
       " 30: ['くもり', '快晴', '14.6', '3.5'],\n",
       " 31: ['はれ', '雨', '12.8', '5.6']}"
      ]
     },
     "execution_count": 11,
     "metadata": {},
     "output_type": "execute_result"
    }
   ],
   "source": [
    "monthObj"
   ]
  },
  {
   "cell_type": "code",
   "execution_count": null,
   "metadata": {
    "collapsed": true
   },
   "outputs": [],
   "source": []
  }
 ],
 "metadata": {
  "kernelspec": {
   "display_name": "env",
   "language": "python",
   "name": "env"
  },
  "language_info": {
   "codemirror_mode": {
    "name": "ipython",
    "version": 3
   },
   "file_extension": ".py",
   "mimetype": "text/x-python",
   "name": "python",
   "nbconvert_exporter": "python",
   "pygments_lexer": "ipython3",
   "version": "3.6.4"
  }
 },
 "nbformat": 4,
 "nbformat_minor": 2
}
