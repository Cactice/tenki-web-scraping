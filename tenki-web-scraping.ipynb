{
 "cells": [
  {
   "cell_type": "code",
   "execution_count": 2,
   "metadata": {},
   "outputs": [
    {
     "name": "stdout",
     "output_type": "stream",
     "text": [
      "{'稚内': '47401', '旭川': '47407', '札幌': '47412', '網走': '47409', '釧路': '47418', '室蘭': '47423', '函館': '47430', '青森': '47575', '秋田': '47582', '岩手': '47584', '宮城': '47590', '山形': '47588', '福島': '47595', '茨城': '47629', '栃木': '47615', '群馬': '47624', '埼玉': '47626', '東京': '47662', '千葉': '47682', '神奈川': '47670', '長野': '47610', '山梨': '47638', '静岡': '47656', '愛知': '47636', '岐阜': '47632', '新潟': '47604', '富山': '47607', '石川': '47605', '福井': '47616', '滋賀': '47761', '三重': '47651', '京都': '47759', '大阪': '47772', '兵庫': '47770', '奈良': '47780', '和歌山': '47777', '岡山': '47768', '広島': '47765', '島根': '47741', '鳥取': '47746', '山口': '47784', '徳島': '47895', '香川': '47891', '愛媛': '47887', '高知': '47893', '福岡': '47807', '大分': '47815', '長崎': '47817', '佐賀': '47813', '熊本': '47819', '宮崎': '47830', '鹿児島': '47827', '沖縄島': '47936', '宮古島': '47927', '石垣島': '47918'}\n"
     ]
    }
   ],
   "source": [
    "from bs4 import BeautifulSoup\n",
    "import re\n",
    "import requests\n",
    "weather_url = 'http://www.weather-eye.com/weatherchart/'\n",
    "r  = requests.get(weather_url)\n",
    "data = r.content\n",
    "soup = BeautifulSoup(data, 'html.parser')\n",
    "d = {}\n",
    "\n",
    "for each in soup.find_all('a'):\n",
    "    d[each.get_text()] = re.search('_(\\d{5}).',each.get('href')).group(1)\n",
    "print(d)"
   ]
  },
  {
   "cell_type": "code",
   "execution_count": null,
   "metadata": {
    "collapsed": true
   },
   "outputs": [],
   "source": []
  },
  {
   "cell_type": "code",
   "execution_count": null,
   "metadata": {
    "collapsed": true
   },
   "outputs": [],
   "source": []
  }
 ],
 "metadata": {
  "kernelspec": {
   "display_name": "env",
   "language": "python",
   "name": "env"
  },
  "language_info": {
   "codemirror_mode": {
    "name": "ipython",
    "version": 3
   },
   "file_extension": ".py",
   "mimetype": "text/x-python",
   "name": "python",
   "nbconvert_exporter": "python",
   "pygments_lexer": "ipython3",
   "version": "3.6.4"
  }
 },
 "nbformat": 4,
 "nbformat_minor": 2
}
