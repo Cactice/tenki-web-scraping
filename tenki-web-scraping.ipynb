{
 "cells": [
  {
   "cell_type": "code",
   "execution_count": 143,
   "metadata": {},
   "outputs": [],
   "source": [
    "from bs4 import BeautifulSoup\n",
    "import re\n",
    "import requests\n",
    "weather_url = 'http://www.weather-eye.com/weatherchart/'\n",
    "r  = requests.get(weather_url)\n",
    "data = r.content\n",
    "soup = BeautifulSoup(data, 'html.parser')\n",
    "ken = {} # ken means prefecture in Japanese\n",
    "\n",
    "for each in soup.find_all('a'):\n",
    "    ken_id = re.search('_(\\d{5}).',each.get('href')).group(1)\n",
    "    ken_name = each.get_text()\n",
    "    ken[ken_name] = ken_id"
   ]
  },
  {
   "cell_type": "code",
   "execution_count": 180,
   "metadata": {},
   "outputs": [],
   "source": [
    "# typical target url => http://www.weather-eye.com/weatherchart/src/1510_47682.htm\n",
    "\n",
    "target_ken_name = '鹿児島'\n",
    "target_ken_id = ken[target_ken_name]\n",
    "target_date = '151213' #yymmdd\n",
    "target_month = re.search('^\\d{4}', target_date).group(0)\n",
    "url_prefix = 'http://www.weather-eye.com/weatherchart/src/'\n",
    "url_suffix = '.htm'\n",
    "full_url = url_prefix +target_month+'_' + target_ken_id +url_suffix\n",
    "#ken"
   ]
  },
  {
   "cell_type": "code",
   "execution_count": 145,
   "metadata": {},
   "outputs": [],
   "source": [
    "r  = requests.get(full_url)"
   ]
  },
  {
   "cell_type": "code",
   "execution_count": 177,
   "metadata": {},
   "outputs": [],
   "source": [
    "# scrape web!! (yah yah)\n",
    "\n",
    "import math\n",
    "data = r.content\n",
    "soup = BeautifulSoup(data, 'html.parser')\n",
    "body = soup.find('body')\n",
    "table = body.findAll('table')[6]\n",
    "tr = table.findAll('tr')\n",
    "monthObj = {}\n",
    "day = 0\n",
    "day2 = 0\n",
    "del tr[0]\n",
    "for index, each_tr in enumerate(tr):\n",
    "    if index % 3 == 0:\n",
    "        for b in each_tr.findAll('b'):\n",
    "            monthObj[int(b.get_text())] = []\n",
    "    if index % 3 == 1:\n",
    "        for font in each_tr.findAll('font'):\n",
    "            day += 0.5\n",
    "            date = math.ceil(float(day))\n",
    "            monthObj[date].append(font.get_text())\n",
    "    if index % 3 == 2:\n",
    "        for font in each_tr.findAll('font'):\n",
    "            day2 += 0.5\n",
    "            date = math.ceil(float(day2))\n",
    "            monthObj[date].append(font.get_text())"
   ]
  },
  {
   "cell_type": "code",
   "execution_count": 178,
   "metadata": {},
   "outputs": [],
   "source": [
    "# convert prefecture name to match the websites naming\n",
    "\n",
    "realKen=  ['北海道', '青森県', '岩手県', '宮城県', '秋田県', \n",
    "    '山形県', '福島県', '茨城県', '栃木県', '群馬県', \n",
    "    '埼玉県', '千葉県', '東京都', '神奈川県', '新潟県', \n",
    "    '富山県', '石川県', '福井県', '山梨県', '長野県', \n",
    "    '岐阜県', '静岡県', '愛知県', '三重県', '滋賀県', \n",
    "    '京都府', '大阪府', '兵庫県', '奈良県', '和歌山県', \n",
    "    '鳥取県', '島根県', '岡山県', '広島県', '山口県', \n",
    "    '徳島県', '香川県', '愛媛県', '高知県', '福岡県', \n",
    "    '佐賀県', '長崎県', '熊本県', '大分県', '宮崎県', \n",
    "    '鹿児島県', '沖縄県']\n",
    "newKen =[]\n",
    "for ken2 in realKen:\n",
    "    transformed_ken = re.sub('県|都|府','', ken2)\n",
    "    if transformed_ken == '京':\n",
    "        transformed_ken = '京都'\n",
    "    elif transformed_ken == '沖縄':\n",
    "        transformed_ken = '沖縄島'\n",
    "    elif transformed_ken == '北海道':\n",
    "        transformed_ken = '旭川'\n",
    "    newKen.append(transformed_ken)\n",
    "#newKen"
   ]
  },
  {
   "cell_type": "code",
   "execution_count": 179,
   "metadata": {},
   "outputs": [],
   "source": [
    "# convert dictionary to list to compare with the converter\n",
    "\n",
    "dictlist = []\n",
    "for key in ken:\n",
    "    temp = key\n",
    "    dictlist.append(temp)\n",
    "#dictlist"
   ]
  },
  {
   "cell_type": "code",
   "execution_count": 176,
   "metadata": {},
   "outputs": [
    {
     "data": {
      "text/plain": [
       "[]"
      ]
     },
     "execution_count": 176,
     "metadata": {},
     "output_type": "execute_result"
    }
   ],
   "source": [
    "# convert checker \n",
    "# if nothing displays it's good\n",
    "\n",
    "list(set(newKen) - set(dictlist))"
   ]
  },
  {
   "cell_type": "code",
   "execution_count": null,
   "metadata": {
    "collapsed": true
   },
   "outputs": [],
   "source": []
  }
 ],
 "metadata": {
  "kernelspec": {
   "display_name": "env",
   "language": "python",
   "name": "env"
  }
 },
 "nbformat": 4,
 "nbformat_minor": 2
}
